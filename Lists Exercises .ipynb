{
 "cells": [
  {
   "cell_type": "markdown",
   "metadata": {},
   "source": [
    "# Python Lists Exercises "
   ]
  },
  {
   "cell_type": "code",
   "execution_count": 1,
   "metadata": {},
   "outputs": [
    {
     "name": "stdout",
     "output_type": "stream",
     "text": [
      "('Teena', 'Adeyeba', 'Anastasiia', 'Soniya', 'Keval', 'Yaaseen')\n"
     ]
    }
   ],
   "source": [
    "#Q1 Create a tuple with all participant names in the JDA program\n",
    "a_tuple = (\"Teena\", \"Adeyeba\", \"Anastasiia\", \"Soniya\", \"Keval\", \"Yaaseen\")\n",
    "print(a_tuple) "
   ]
  },
  {
   "cell_type": "code",
   "execution_count": 2,
   "metadata": {},
   "outputs": [
    {
     "name": "stdout",
     "output_type": "stream",
     "text": [
      "['Teena', 'Adeyeba', 'Anastasiia', 'Soniya', 'Keval', 'Yaaseen']\n"
     ]
    }
   ],
   "source": [
    "#Q2 Convert the tuple into a list called pps_L\n",
    "a_list = list(a_tuple)\n",
    "print(a_list)"
   ]
  },
  {
   "cell_type": "code",
   "execution_count": 4,
   "metadata": {},
   "outputs": [
    {
     "name": "stdout",
     "output_type": "stream",
     "text": [
      "6\n"
     ]
    }
   ],
   "source": [
    "#Q3 What is the length of your list\n",
    "print(len(a_list))"
   ]
  },
  {
   "cell_type": "code",
   "execution_count": 17,
   "metadata": {},
   "outputs": [
    {
     "name": "stdout",
     "output_type": "stream",
     "text": [
      "element 1: Teena element 2: Adeyeba element 3: Anastasiia element 4: Soniya element 5: Keval element 6: Yaaseen\n"
     ]
    },
    {
     "data": {
      "text/plain": [
       "'e'"
      ]
     },
     "execution_count": 17,
     "metadata": {},
     "output_type": "execute_result"
    }
   ],
   "source": [
    "#Q4 Find the values stored in indexs [3],[5],[14],[30],[38]\n",
    "# Element starts from 1\n",
    "# Index starts from 0\n",
    "print(\"element 1:\", a_list[0],\"element 2:\", a_list[1], \"element 3:\", a_list[2],\"element 4:\",a_list[3],\"element 5:\", a_list[4],\"element 6:\", a_list[5])\n"
   ]
  },
  {
   "cell_type": "code",
   "execution_count": 28,
   "metadata": {},
   "outputs": [
    {
     "name": "stdout",
     "output_type": "stream",
     "text": [
      "False\n",
      "Yes, Adeyeba found\n"
     ]
    }
   ],
   "source": [
    "#Q5 Check if \"Sarah\" is in the list\n",
    "print(\"Sarah\" in a_list)\n",
    "\n",
    "name = input(\"who are you looking for?\")\n",
    "\n",
    "if name in a_list:\n",
    "    print(f\"Yes, {name} found\")\n",
    "else:\n",
    "    print(f\"No, {name} not found\")"
   ]
  },
  {
   "cell_type": "code",
   "execution_count": 55,
   "metadata": {},
   "outputs": [
    {
     "name": "stdout",
     "output_type": "stream",
     "text": [
      "['Teena', 'Adeyeba', 'Anastasiia', 'Soniya', 'Keval', 'Yaaseen', 'Sarah']\n",
      "['12', [2]]\n"
     ]
    }
   ],
   "source": [
    "#Q6 Add \"Sarah\" to your list\n",
    "# a_list.append(\"Sarah\")\n",
    "\n",
    "print(a_list)\n",
    "\n",
    "obj = [\"12\"]\n",
    "obj1 = [2]\n",
    "obj.append(obj1)\n",
    "print(obj)"
   ]
  },
  {
   "cell_type": "code",
   "execution_count": null,
   "metadata": {},
   "outputs": [],
   "source": [
    "#Q7 Check if \"Bashir\" is in the list\n",
    "print(\"Bashir\" in a_list)"
   ]
  },
  {
   "cell_type": "code",
   "execution_count": null,
   "metadata": {},
   "outputs": [],
   "source": [
    "#Q9 Add \"Bashir\" to your list"
   ]
  },
  {
   "cell_type": "code",
   "execution_count": null,
   "metadata": {},
   "outputs": [],
   "source": [
    "#Q10 Find the index of the element \"Sarah\" in the list"
   ]
  },
  {
   "cell_type": "code",
   "execution_count": null,
   "metadata": {},
   "outputs": [],
   "source": [
    "#Q11 Change the value of the index in Q10 from \"Sarah\" to \"Instructor\""
   ]
  },
  {
   "cell_type": "code",
   "execution_count": null,
   "metadata": {},
   "outputs": [],
   "source": [
    "#Q12 Find the index of the element \"Bashir\" in the list"
   ]
  },
  {
   "cell_type": "code",
   "execution_count": null,
   "metadata": {},
   "outputs": [],
   "source": [
    "#Q13 Change the value of the index in Q12 from \"Bashir\" to \"Peer-Mentor\""
   ]
  }
 ],
 "metadata": {
  "kernelspec": {
   "display_name": "Python 3",
   "language": "python",
   "name": "python3"
  },
  "language_info": {
   "codemirror_mode": {
    "name": "ipython",
    "version": 3
   },
   "file_extension": ".py",
   "mimetype": "text/x-python",
   "name": "python",
   "nbconvert_exporter": "python",
   "pygments_lexer": "ipython3",
   "version": "3.11.9"
  }
 },
 "nbformat": 4,
 "nbformat_minor": 4
}
